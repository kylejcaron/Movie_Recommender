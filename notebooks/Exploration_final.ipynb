{
 "cells": [
  {
   "cell_type": "markdown",
   "metadata": {},
   "source": [
    "## **NAME REDACTED**: Recommender System Case Study"
   ]
  },
  {
   "cell_type": "markdown",
   "metadata": {},
   "source": [
    "**Imports and configuration**"
   ]
  },
  {
   "cell_type": "code",
   "execution_count": 2,
   "metadata": {},
   "outputs": [
    {
     "name": "stdout",
     "output_type": "stream",
     "text": [
      "Once deleted, variables cannot be recovered. Proceed (y/[n])? n\n",
      "Nothing done.\n"
     ]
    }
   ],
   "source": [
    "%reset"
   ]
  },
  {
   "cell_type": "code",
   "execution_count": 3,
   "metadata": {},
   "outputs": [
    {
     "data": {
      "text/plain": [
       "'/Users/kylecaron/Desktop/dsi-recommender-case-study/notebooks'"
      ]
     },
     "execution_count": 3,
     "metadata": {},
     "output_type": "execute_result"
    }
   ],
   "source": [
    "import os\n",
    "os.getcwd()"
   ]
  },
  {
   "cell_type": "code",
   "execution_count": 4,
   "metadata": {},
   "outputs": [],
   "source": [
    "import os\n",
    "os.chdir('..')\n",
    "from src.util import *\n",
    "from src.recommender import MovieRecommender\n",
    "import pandas as pd\n",
    "import numpy as np\n",
    "import matplotlib.pyplot as plt\n",
    "%matplotlib inline\n",
    "import seaborn as sns"
   ]
  },
  {
   "cell_type": "markdown",
   "metadata": {},
   "source": [
    "### Generate random sample and save train-test .csv files"
   ]
  },
  {
   "cell_type": "code",
   "execution_count": 5,
   "metadata": {},
   "outputs": [
    {
     "data": {
      "text/plain": [
       "'/Users/kylecaron/Desktop/dsi-recommender-case-study'"
      ]
     },
     "execution_count": 5,
     "metadata": {},
     "output_type": "execute_result"
    }
   ],
   "source": [
    "os.getcwd()"
   ]
  },
  {
   "cell_type": "code",
   "execution_count": null,
   "metadata": {},
   "outputs": [],
   "source": [
    "generate_file_split(pd.read_csv('data/training.csv'),1)"
   ]
  },
  {
   "cell_type": "code",
   "execution_count": 12,
   "metadata": {},
   "outputs": [],
   "source": [
    "generate_file_split(random_subset(10000), 0.8)"
   ]
  },
  {
   "cell_type": "code",
   "execution_count": 13,
   "metadata": {},
   "outputs": [],
   "source": [
    "train_data = pd.read_csv('data/ctrain.csv')\n",
    "test_data = pd.read_csv('data/ctest.csv')\n",
    "request_data = pd.read_csv('data/crequests.csv')"
   ]
  },
  {
   "cell_type": "code",
   "execution_count": 14,
   "metadata": {},
   "outputs": [],
   "source": [
    "train_data.head();"
   ]
  },
  {
   "cell_type": "code",
   "execution_count": 15,
   "metadata": {},
   "outputs": [],
   "source": [
    "test_data.head();"
   ]
  },
  {
   "cell_type": "code",
   "execution_count": 16,
   "metadata": {},
   "outputs": [],
   "source": [
    "request_data.head();"
   ]
  },
  {
   "cell_type": "markdown",
   "metadata": {},
   "source": [
    "### Fit recommender model"
   ]
  },
  {
   "cell_type": "code",
   "execution_count": 21,
   "metadata": {},
   "outputs": [],
   "source": [
    "reco_instance = MovieRecommender()\n",
    "fit_model = reco_instance.fit(train_data)"
   ]
  },
  {
   "cell_type": "markdown",
   "metadata": {},
   "source": [
    "### Generate rating predictions"
   ]
  },
  {
   "cell_type": "code",
   "execution_count": 22,
   "metadata": {},
   "outputs": [],
   "source": [
    "predictions = reco_instance.transform(request_data)"
   ]
  },
  {
   "cell_type": "code",
   "execution_count": 23,
   "metadata": {},
   "outputs": [],
   "source": [
    "predictions.head();"
   ]
  },
  {
   "cell_type": "markdown",
   "metadata": {},
   "source": [
    "### Evaluate model"
   ]
  },
  {
   "cell_type": "code",
   "execution_count": 24,
   "metadata": {},
   "outputs": [
    {
     "data": {
      "text/plain": [
       "1.2000202429220048"
      ]
     },
     "execution_count": 24,
     "metadata": {},
     "output_type": "execute_result"
    }
   ],
   "source": [
    "RMSE(predictions, test_data)"
   ]
  },
  {
   "cell_type": "code",
   "execution_count": null,
   "metadata": {},
   "outputs": [],
   "source": [
    "import time"
   ]
  },
  {
   "cell_type": "markdown",
   "metadata": {},
   "source": [
    "# Grid Search"
   ]
  },
  {
   "cell_type": "code",
   "execution_count": 7,
   "metadata": {},
   "outputs": [
    {
     "name": "stdout",
     "output_type": "stream",
     "text": [
      "8 latent factors and regularization = 0.001: validation RMSE is 1.2239419463970782\n",
      "8 latent factors and regularization = 0.01: validation RMSE is 1.2093845466865603\n",
      "8 latent factors and regularization = 0.05: validation RMSE is 1.2001924575186236\n",
      "8 latent factors and regularization = 0.1: validation RMSE is 1.1931954485488436\n",
      "8 latent factors and regularization = 0.2: validation RMSE is 1.1868758158834662\n",
      "10 latent factors and regularization = 0.001: validation RMSE is 1.2612081363496896\n",
      "10 latent factors and regularization = 0.01: validation RMSE is 1.209444563077765\n",
      "10 latent factors and regularization = 0.05: validation RMSE is 1.20022144529255\n",
      "10 latent factors and regularization = 0.1: validation RMSE is 1.1940379944896276\n",
      "10 latent factors and regularization = 0.2: validation RMSE is 1.1868811556398853\n",
      "12 latent factors and regularization = 0.001: validation RMSE is 1.2599603296268762\n",
      "12 latent factors and regularization = 0.01: validation RMSE is 1.2157157343974554\n",
      "12 latent factors and regularization = 0.05: validation RMSE is 1.2008095158396026\n",
      "12 latent factors and regularization = 0.1: validation RMSE is 1.1936032892284527\n",
      "12 latent factors and regularization = 0.2: validation RMSE is 1.1871207808601447\n",
      "14 latent factors and regularization = 0.001: validation RMSE is 1.2450503787568628\n",
      "14 latent factors and regularization = 0.01: validation RMSE is 1.2118558620204232\n",
      "14 latent factors and regularization = 0.05: validation RMSE is 1.1985480261820618\n",
      "14 latent factors and regularization = 0.1: validation RMSE is 1.1927834761980052\n",
      "14 latent factors and regularization = 0.2: validation RMSE is 1.186994283521084\n",
      "16 latent factors and regularization = 0.001: validation RMSE is 1.253534273805618\n",
      "16 latent factors and regularization = 0.01: validation RMSE is 1.2132453075251564\n",
      "16 latent factors and regularization = 0.05: validation RMSE is 1.1994257624845073\n",
      "16 latent factors and regularization = 0.1: validation RMSE is 1.193174266820161\n",
      "16 latent factors and regularization = 0.2: validation RMSE is 1.1868338465113693\n",
      "18 latent factors and regularization = 0.001: validation RMSE is 1.2554015497345061\n",
      "18 latent factors and regularization = 0.01: validation RMSE is 1.2151066089567795\n",
      "18 latent factors and regularization = 0.05: validation RMSE is 1.1983516711151994\n",
      "18 latent factors and regularization = 0.1: validation RMSE is 1.1929155459156204\n",
      "18 latent factors and regularization = 0.2: validation RMSE is 1.1870700833902896\n",
      "20 latent factors and regularization = 0.001: validation RMSE is 1.2692769767630865\n",
      "20 latent factors and regularization = 0.01: validation RMSE is 1.2132242949970078\n",
      "20 latent factors and regularization = 0.05: validation RMSE is 1.1982993203744996\n",
      "20 latent factors and regularization = 0.1: validation RMSE is 1.1925606415058105\n",
      "20 latent factors and regularization = 0.2: validation RMSE is 1.1870271494562763\n",
      "\n",
      "The best model has 16 latent factors and regularization = 0.2\n",
      "Total Runtime: 1992.76 seconds\n"
     ]
    }
   ],
   "source": [
    "# hyper-param config\n",
    "num_iterations = 10\n",
    "ranks = [8, 10, 12, 14, 16, 18, 20]\n",
    "reg_params = [0.001, 0.01, 0.05, 0.1, 0.2]\n",
    "\n",
    "# grid search and select best model\n",
    "start_time = time.time()\n",
    "final_model = grid_search(train_data, test_data, request_data,\n",
    "                          num_iterations, reg_params, ranks)\n",
    "\n",
    "print ('Total Runtime: {:.2f} seconds'.format(time.time() - start_time))\n"
   ]
  },
  {
   "cell_type": "code",
   "execution_count": 9,
   "metadata": {},
   "outputs": [
    {
     "name": "stdout",
     "output_type": "stream",
     "text": [
      "16 latent factors and regularization = 0.15: validation RMSE is 1.1893504144561955\n",
      "16 latent factors and regularization = 0.2: validation RMSE is 1.1868338465113693\n",
      "16 latent factors and regularization = 0.25: validation RMSE is 1.1857399071364765\n",
      "16 latent factors and regularization = 0.3: validation RMSE is 1.1857777389865123\n",
      "\n",
      "The best model has 16 latent factors and regularization = 0.25\n",
      "Total Runtime: 222.12 seconds\n"
     ]
    }
   ],
   "source": [
    "# hyper-param config\n",
    "num_iterations = 10\n",
    "ranks = [15, 16, 17]\n",
    "reg_params = [0.15, 0.2, 0.25, 0.3]\n",
    "\n",
    "# grid search and select best model\n",
    "start_time = time.time()\n",
    "final_model = grid_search(train_data, test_data, request_data,\n",
    "                          num_iterations, reg_params, ranks)\n",
    "\n",
    "print ('Total Runtime: {:.2f} seconds'.format(time.time() - start_time))\n"
   ]
  },
  {
   "cell_type": "code",
   "execution_count": 11,
   "metadata": {},
   "outputs": [
    {
     "name": "stdout",
     "output_type": "stream",
     "text": [
      "15 latent factors and regularization = 0.25: validation RMSE is 1.185894420862187\n",
      "16 latent factors and regularization = 0.25: validation RMSE is 1.1857399071364765\n",
      "17 latent factors and regularization = 0.25: validation RMSE is 1.1858461593962724\n",
      "\n",
      "The best model has 16 latent factors and regularization = 0.25\n",
      "Total Runtime: 157.15 seconds\n"
     ]
    }
   ],
   "source": [
    "# hyper-param config\n",
    "num_iterations = 10\n",
    "ranks = [15, 16, 17]\n",
    "reg_params = [0.25]\n",
    "\n",
    "# grid search and select best model\n",
    "start_time = time.time()\n",
    "final_model = grid_search(train_data, test_data, request_data,\n",
    "                          num_iterations, reg_params, ranks)\n",
    "\n",
    "print ('Total Runtime: {:.2f} seconds'.format(time.time() - start_time))\n"
   ]
  },
  {
   "cell_type": "code",
   "execution_count": 12,
   "metadata": {},
   "outputs": [
    {
     "name": "stdout",
     "output_type": "stream",
     "text": [
      "16 latent factors and regularization = 0.24: validation RMSE is 1.1858613997085117\n",
      "16 latent factors and regularization = 0.25: validation RMSE is 1.1857399071364765\n",
      "16 latent factors and regularization = 0.26: validation RMSE is 1.1856633647738652\n",
      "\n",
      "The best model has 16 latent factors and regularization = 0.26\n",
      "Total Runtime: 153.67 seconds\n"
     ]
    }
   ],
   "source": [
    "# hyper-param config\n",
    "num_iterations = 10\n",
    "ranks = [16]\n",
    "reg_params = [0.24, 0.25, 0.26]\n",
    "\n",
    "# grid search and select best model\n",
    "start_time = time.time()\n",
    "final_model = grid_search(train_data, test_data, request_data,\n",
    "                          num_iterations, reg_params, ranks)\n",
    "\n",
    "print ('Total Runtime: {:.2f} seconds'.format(time.time() - start_time))\n"
   ]
  },
  {
   "cell_type": "code",
   "execution_count": 13,
   "metadata": {},
   "outputs": [
    {
     "name": "stdout",
     "output_type": "stream",
     "text": [
      "16 latent factors and regularization = 0.26: validation RMSE is 1.1856633647738652\n",
      "16 latent factors and regularization = 0.27: validation RMSE is 1.185629479898955\n",
      "16 latent factors and regularization = 0.28: validation RMSE is 1.185641845772382\n",
      "16 latent factors and regularization = 0.29: validation RMSE is 1.1856889845737006\n",
      "16 latent factors and regularization = 0.3: validation RMSE is 1.1857777389865123\n",
      "\n",
      "The best model has 16 latent factors and regularization = 0.27\n",
      "Total Runtime: 259.14 seconds\n"
     ]
    }
   ],
   "source": [
    "# hyper-param config\n",
    "num_iterations = 10\n",
    "ranks = [16]\n",
    "reg_params = [0.26, 0.27, 0.28, 0.29, 0.3]\n",
    "\n",
    "# grid search and select best model\n",
    "start_time = time.time()\n",
    "final_model = grid_search(train_data, test_data, request_data,\n",
    "                          num_iterations, reg_params, ranks)\n",
    "\n",
    "print ('Total Runtime: {:.2f} seconds'.format(time.time() - start_time))\n"
   ]
  },
  {
   "cell_type": "code",
   "execution_count": null,
   "metadata": {},
   "outputs": [],
   "source": []
  },
  {
   "cell_type": "code",
   "execution_count": null,
   "metadata": {},
   "outputs": [],
   "source": []
  }
 ],
 "metadata": {
  "kernelspec": {
   "display_name": "Python 3",
   "language": "python",
   "name": "python3"
  },
  "language_info": {
   "codemirror_mode": {
    "name": "ipython",
    "version": 3
   },
   "file_extension": ".py",
   "mimetype": "text/x-python",
   "name": "python",
   "nbconvert_exporter": "python",
   "pygments_lexer": "ipython3",
   "version": "3.6.8"
  }
 },
 "nbformat": 4,
 "nbformat_minor": 2
}
